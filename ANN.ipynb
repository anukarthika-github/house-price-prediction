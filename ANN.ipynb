{
  "nbformat": 4,
  "nbformat_minor": 0,
  "metadata": {
    "colab": {
      "provenance": []
    },
    "kernelspec": {
      "name": "python3",
      "display_name": "Python 3"
    },
    "language_info": {
      "name": "python"
    }
  },
  "cells": [
    {
      "cell_type": "code",
      "execution_count": null,
      "metadata": {
        "id": "U57IpCjMlcEi"
      },
      "outputs": [],
      "source": [
        "import pandas as pd\n",
        "import numpy as np\n",
        "from sklearn.datasets import make_classification, make_regression\n",
        "import tensorflow as tf\n",
        "from tensorflow.keras.optimizers import Adam\n",
        "from tensorflow.keras.layers import Dense\n",
        "from tensorflow.keras.models import Sequential\n",
        "import sklearn\n",
        "dir(sklearn.datasets)\n",
        "from sklearn.metrics import r2_score"
      ]
    },
    {
      "cell_type": "code",
      "source": [
        "data = make_classification(200,4,random_state=1)\n",
        "x = data[0]\n",
        "y = data[1]"
      ],
      "metadata": {
        "id": "8I7D5Q3qmKb1"
      },
      "execution_count": null,
      "outputs": []
    },
    {
      "cell_type": "code",
      "source": [
        "model = Sequential()\n",
        "model.add(Dense(512,activation='tanh',input_dim=4))\n",
        "model.add(Dense(256,activation ='relu'))\n",
        "model.add(Dense(128,activation ='relu'))\n",
        "model.add(Dense(1,activation = 'sigmoid'))\n",
        "adam = Adam(0.001)"
      ],
      "metadata": {
        "id": "lXQ-efQQmn-E"
      },
      "execution_count": null,
      "outputs": []
    },
    {
      "cell_type": "code",
      "source": [
        "model.compile(optimizer=adam, loss='binary_crossentropy',metrics = ['accuracy'])\n",
        "history = model.fit(x,y,epochs=10, batch_size= 5, validation_split= 0.2)"
      ],
      "metadata": {
        "colab": {
          "base_uri": "https://localhost:8080/"
        },
        "id": "sJXU9xtNnlEK",
        "outputId": "8f1a0731-25b0-4262-8746-15f8725dbdf5"
      },
      "execution_count": null,
      "outputs": [
        {
          "output_type": "stream",
          "name": "stdout",
          "text": [
            "Epoch 1/10\n",
            "32/32 [==============================] - 2s 14ms/step - loss: 0.4219 - accuracy: 0.8313 - val_loss: 0.2504 - val_accuracy: 0.9250\n",
            "Epoch 2/10\n",
            "32/32 [==============================] - 0s 7ms/step - loss: 0.3882 - accuracy: 0.8687 - val_loss: 0.2669 - val_accuracy: 0.9000\n",
            "Epoch 3/10\n",
            "32/32 [==============================] - 0s 6ms/step - loss: 0.3498 - accuracy: 0.8750 - val_loss: 0.2853 - val_accuracy: 0.9250\n",
            "Epoch 4/10\n",
            "32/32 [==============================] - 0s 6ms/step - loss: 0.3429 - accuracy: 0.8687 - val_loss: 0.3021 - val_accuracy: 0.8500\n",
            "Epoch 5/10\n",
            "32/32 [==============================] - 0s 10ms/step - loss: 0.3592 - accuracy: 0.8813 - val_loss: 0.2307 - val_accuracy: 0.9500\n",
            "Epoch 6/10\n",
            "32/32 [==============================] - 0s 10ms/step - loss: 0.3198 - accuracy: 0.8875 - val_loss: 0.2345 - val_accuracy: 0.9500\n",
            "Epoch 7/10\n",
            "32/32 [==============================] - 0s 12ms/step - loss: 0.3193 - accuracy: 0.8813 - val_loss: 0.1951 - val_accuracy: 0.9500\n",
            "Epoch 8/10\n",
            "32/32 [==============================] - 0s 10ms/step - loss: 0.3050 - accuracy: 0.9000 - val_loss: 0.1937 - val_accuracy: 0.9500\n",
            "Epoch 9/10\n",
            "32/32 [==============================] - 2s 52ms/step - loss: 0.2980 - accuracy: 0.8938 - val_loss: 0.1858 - val_accuracy: 0.9500\n",
            "Epoch 10/10\n",
            "32/32 [==============================] - 1s 32ms/step - loss: 0.2977 - accuracy: 0.8750 - val_loss: 0.1934 - val_accuracy: 0.9500\n"
          ]
        }
      ]
    },
    {
      "cell_type": "code",
      "source": [
        "data = make_regression(200,4,random_state=1)\n",
        "x = data[0]\n",
        "y = data[1]"
      ],
      "metadata": {
        "id": "joJnRxsNn3Qg"
      },
      "execution_count": null,
      "outputs": []
    },
    {
      "cell_type": "code",
      "source": [
        "model = Sequential()\n",
        "model.add(Dense(512,activation='tanh',input_dim=4))\n",
        "model.add(Dense(256,activation ='relu'))\n",
        "model.add(Dense(128))\n",
        "model.add(Dense(1))\n",
        "adam = Adam(0.001)"
      ],
      "metadata": {
        "id": "krAaze0Bn64Y"
      },
      "execution_count": null,
      "outputs": []
    },
    {
      "cell_type": "code",
      "source": [
        "model.compile(optimizer=adam, loss='mean_squared_error', metrics='mse')\n",
        "history = model.fit(x,y,epochs=10, batch_size= 5, validation_split= 0.2)"
      ],
      "metadata": {
        "colab": {
          "base_uri": "https://localhost:8080/"
        },
        "id": "3fkhNf5ioKYv",
        "outputId": "af40641c-242e-4449-b561-2a182d0d1b23"
      },
      "execution_count": null,
      "outputs": [
        {
          "output_type": "stream",
          "name": "stdout",
          "text": [
            "Epoch 1/10\n",
            "32/32 [==============================] - 2s 36ms/step - loss: 5.8436 - mse: 5.8436 - val_loss: 22.3071 - val_mse: 22.3071\n",
            "Epoch 2/10\n",
            "32/32 [==============================] - 0s 13ms/step - loss: 7.2047 - mse: 7.2047 - val_loss: 43.7326 - val_mse: 43.7326\n",
            "Epoch 3/10\n",
            "32/32 [==============================] - 0s 7ms/step - loss: 4.2183 - mse: 4.2183 - val_loss: 24.3477 - val_mse: 24.3477\n",
            "Epoch 4/10\n",
            "32/32 [==============================] - 0s 6ms/step - loss: 2.7145 - mse: 2.7145 - val_loss: 15.9926 - val_mse: 15.9926\n",
            "Epoch 5/10\n",
            "32/32 [==============================] - 0s 5ms/step - loss: 4.9544 - mse: 4.9544 - val_loss: 20.9370 - val_mse: 20.9370\n",
            "Epoch 6/10\n",
            "32/32 [==============================] - 0s 6ms/step - loss: 2.2195 - mse: 2.2195 - val_loss: 23.0954 - val_mse: 23.0954\n",
            "Epoch 7/10\n",
            "32/32 [==============================] - 0s 5ms/step - loss: 2.5068 - mse: 2.5068 - val_loss: 16.1228 - val_mse: 16.1228\n",
            "Epoch 8/10\n",
            "32/32 [==============================] - 0s 5ms/step - loss: 2.6248 - mse: 2.6248 - val_loss: 17.5318 - val_mse: 17.5318\n",
            "Epoch 9/10\n",
            "32/32 [==============================] - 2s 58ms/step - loss: 2.6124 - mse: 2.6124 - val_loss: 21.5270 - val_mse: 21.5270\n",
            "Epoch 10/10\n",
            "32/32 [==============================] - 0s 7ms/step - loss: 2.7879 - mse: 2.7879 - val_loss: 30.6358 - val_mse: 30.6358\n"
          ]
        }
      ]
    }
  ]
}