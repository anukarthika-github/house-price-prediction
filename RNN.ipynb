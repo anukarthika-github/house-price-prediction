{
  "nbformat": 4,
  "nbformat_minor": 0,
  "metadata": {
    "colab": {
      "provenance": []
    },
    "kernelspec": {
      "name": "python3",
      "display_name": "Python 3"
    },
    "language_info": {
      "name": "python"
    }
  },
  "cells": [
    {
      "cell_type": "code",
      "execution_count": null,
      "metadata": {
        "id": "L_t6j1M1pbCd"
      },
      "outputs": [],
      "source": [
        "import pandas as pd\n",
        "import numpy as np\n",
        "from keras.datasets import reuters\n",
        "import tensorflow as tf\n",
        "from tensorflow.keras.preprocessing.sequence import pad_sequences\n",
        "from keras.models import Sequential\n",
        "from tensorflow.keras.utils import to_categorical\n",
        "from keras.layers import Dense, SimpleRNN, Activation, LSTM\n",
        "from tensorflow.keras.optimizers import Adam\n",
        "from sklearn.metrics import accuracy_score\n",
        "from numpy.core.fromnumeric import shape\n",
        "from keras import metrics"
      ]
    },
    {
      "cell_type": "code",
      "source": [
        "num_words = None\n",
        "maxlen = 50\n",
        "test_split = 0.3\n",
        "(x_train,y_train),(x_test,y_test) = reuters.load_data(num_words = num_words, maxlen = maxlen, test_split = test_split)\n",
        "x_train = pad_sequences(x_train, padding = 'post')\n",
        "x_test = pad_sequences(x_test, padding = 'post')\n",
        "x_train = np.array(x_train).reshape((x_train.shape[0],x_train.shape[1],1))\n",
        "x_test = np.array(x_test).reshape((x_test.shape[0],x_test.shape[1],1))\n",
        "y_data = np.concatenate((y_train,y_test))\n",
        "y_data = to_categorical(y_data)\n",
        "y_train = y_data[:1395]\n",
        "y_test = y_data[1395:]"
      ],
      "metadata": {
        "id": "VCeQVm1ap639"
      },
      "execution_count": null,
      "outputs": []
    },
    {
      "cell_type": "code",
      "source": [
        "ls = Sequential()\n",
        "ls.add(LSTM(50, input_shape=(49,1)))\n",
        "ls.add(Dense(46))\n",
        "ls.add(Activation('softmax'))\n",
        "adam = Adam(lr = 0.001)\n",
        "ls.compile(loss = 'categorical_crossentropy', optimizer = adam, metrics = ['accuracy'])\n",
        "ls.fit(x_train,y_train, epochs = 10, validation_split=0.3)"
      ],
      "metadata": {
        "colab": {
          "base_uri": "https://localhost:8080/"
        },
        "id": "1k_Zt3t1p_3M",
        "outputId": "33dd5d84-b4a1-481e-b3a3-fcfe2fce6d61"
      },
      "execution_count": null,
      "outputs": [
        {
          "output_type": "stream",
          "name": "stderr",
          "text": [
            "WARNING:absl:`lr` is deprecated in Keras optimizer, please use `learning_rate` or use the legacy optimizer, e.g.,tf.keras.optimizers.legacy.Adam.\n"
          ]
        },
        {
          "output_type": "stream",
          "name": "stdout",
          "text": [
            "Epoch 1/5\n",
            "31/31 [==============================] - 6s 98ms/step - loss: 3.0503 - accuracy: 0.5922 - val_loss: 1.5269 - val_accuracy: 0.7160\n",
            "Epoch 2/5\n",
            "31/31 [==============================] - 2s 82ms/step - loss: 1.2840 - accuracy: 0.7141 - val_loss: 1.1745 - val_accuracy: 0.7160\n",
            "Epoch 3/5\n",
            "31/31 [==============================] - 1s 37ms/step - loss: 1.1585 - accuracy: 0.7141 - val_loss: 1.1173 - val_accuracy: 0.7160\n",
            "Epoch 4/5\n",
            "31/31 [==============================] - 2s 55ms/step - loss: 1.1114 - accuracy: 0.7141 - val_loss: 1.0883 - val_accuracy: 0.7160\n",
            "Epoch 5/5\n",
            "31/31 [==============================] - 1s 30ms/step - loss: 1.0589 - accuracy: 0.7141 - val_loss: 0.9896 - val_accuracy: 0.7160\n"
          ]
        },
        {
          "output_type": "execute_result",
          "data": {
            "text/plain": [
              "<keras.callbacks.History at 0x7d4bc611cb50>"
            ]
          },
          "metadata": {},
          "execution_count": 10
        }
      ]
    },
    {
      "cell_type": "code",
      "source": [
        "import matplotlib.pyplot as plt\n",
        "plt.plot(ls.history.history['accuracy'])"
      ],
      "metadata": {
        "colab": {
          "base_uri": "https://localhost:8080/",
          "height": 452
        },
        "id": "Lk9bkz5vsNMZ",
        "outputId": "f26ed99f-2943-40bc-d419-09e9919f310b"
      },
      "execution_count": null,
      "outputs": [
        {
          "output_type": "execute_result",
          "data": {
            "text/plain": [
              "[<matplotlib.lines.Line2D at 0x7d4bbc4056c0>]"
            ]
          },
          "metadata": {},
          "execution_count": 13
        },
        {
          "output_type": "display_data",
          "data": {
            "text/plain": [
              "<Figure size 640x480 with 1 Axes>"
            ],
            "image/png": "[encoded data removed]"
          },
          "metadata": {}
        }
      ]
    },
    {
      "cell_type": "code",
      "source": [
        "rn = Sequential()\n",
        "rn.add(SimpleRNN(50, input_shape=(49,1)))\n",
        "rn.add(Dense(46))\n",
        "rn.add(Activation('softmax'))\n",
        "adam = Adam(lr = 0.0001)\n",
        "rn.compile(loss = 'categorical_crossentropy', optimizer = adam, metrics = ['accuracy'])\n",
        "rn.fit(x_train,y_train, epochs = 5, validation_split=0.3)"
      ],
      "metadata": {
        "colab": {
          "base_uri": "https://localhost:8080/"
        },
        "id": "GhAqKraDruY7",
        "outputId": "4fd8590b-524e-4006-c1b1-30e7038e37a6"
      },
      "execution_count": null,
      "outputs": [
        {
          "output_type": "stream",
          "name": "stderr",
          "text": [
            "WARNING:absl:`lr` is deprecated in Keras optimizer, please use `learning_rate` or use the legacy optimizer, e.g.,tf.keras.optimizers.legacy.Adam.\n"
          ]
        },
        {
          "output_type": "stream",
          "name": "stdout",
          "text": [
            "Epoch 1/5\n",
            "31/31 [==============================] - 4s 91ms/step - loss: 3.0816 - accuracy: 0.4037 - val_loss: 1.7242 - val_accuracy: 0.7160\n",
            "Epoch 2/5\n",
            "31/31 [==============================] - 1s 41ms/step - loss: 1.3767 - accuracy: 0.7141 - val_loss: 1.2105 - val_accuracy: 0.7160\n",
            "Epoch 3/5\n",
            "31/31 [==============================] - 1s 44ms/step - loss: 1.2163 - accuracy: 0.7141 - val_loss: 1.1672 - val_accuracy: 0.7160\n",
            "Epoch 4/5\n",
            "31/31 [==============================] - 0s 14ms/step - loss: 1.1880 - accuracy: 0.7141 - val_loss: 1.1580 - val_accuracy: 0.7160\n",
            "Epoch 5/5\n",
            "31/31 [==============================] - 1s 28ms/step - loss: 1.1760 - accuracy: 0.7141 - val_loss: 1.1524 - val_accuracy: 0.7160\n"
          ]
        },
        {
          "output_type": "execute_result",
          "data": {
            "text/plain": [
              "<keras.callbacks.History at 0x7d4bc611e680>"
            ]
          },
          "metadata": {},
          "execution_count": 11
        }
      ]
    },
    {
      "cell_type": "code",
      "source": [
        "import matplotlib.pyplot as plt\n",
        "plt.plot(rn.history.history['accuracy'])"
      ],
      "metadata": {
        "colab": {
          "base_uri": "https://localhost:8080/",
          "height": 447
        },
        "id": "CEqw6IfCsZUw",
        "outputId": "850c8b20-e19e-4918-df8c-b8da11f01d76"
      },
      "execution_count": null,
      "outputs": [
        {
          "output_type": "execute_result",
          "data": {
            "text/plain": [
              "[<matplotlib.lines.Line2D at 0x7d4bbc3711b0>]"
            ]
          },
          "metadata": {},
          "execution_count": 14
        },
        {
          "output_type": "display_data",
          "data": {
            "text/plain": [
              "<Figure size 640x480 with 1 Axes>"
            ],
            "image/png": "[encoded data removed]"
          },
          "metadata": {}
        }
      ]
    }
  ]
}