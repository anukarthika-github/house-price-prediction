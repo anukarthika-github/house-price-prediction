{
  "nbformat": 4,
  "nbformat_minor": 0,
  "metadata": {
    "colab": {
      "provenance": []
    },
    "kernelspec": {
      "name": "python3",
      "display_name": "Python 3"
    },
    "language_info": {
      "name": "python"
    }
  },
  "cells": [
    {
      "cell_type": "code",
      "execution_count": null,
      "metadata": {
        "colab": {
          "base_uri": "https://localhost:8080/",
          "height": 1000
        },
        "id": "7t99afDbMQD5",
        "outputId": "e851d00f-9ece-4afb-c717-a535927d4d46"
      },
      "outputs": [
        {
          "output_type": "stream",
          "name": "stderr",
          "text": [
            "<ipython-input-4-c5a81b6f2d12>:17: SettingWithCopyWarning: \n",
            "A value is trying to be set on a copy of a slice from a DataFrame.\n",
            "Try using .loc[row_indexer,col_indexer] = value instead\n",
            "\n",
            "See the caveats in the documentation: https://pandas.pydata.org/pandas-docs/stable/user_guide/indexing.html#returning-a-view-versus-a-copy\n",
            "  df['gender'] = le.fit_transform(data['gender'])\n",
            "<ipython-input-4-c5a81b6f2d12>:18: SettingWithCopyWarning: \n",
            "A value is trying to be set on a copy of a slice from a DataFrame.\n",
            "Try using .loc[row_indexer,col_indexer] = value instead\n",
            "\n",
            "See the caveats in the documentation: https://pandas.pydata.org/pandas-docs/stable/user_guide/indexing.html#returning-a-view-versus-a-copy\n",
            "  df['ever_married'] = le.fit_transform(data['ever_married'])\n",
            "<ipython-input-4-c5a81b6f2d12>:19: SettingWithCopyWarning: \n",
            "A value is trying to be set on a copy of a slice from a DataFrame.\n",
            "Try using .loc[row_indexer,col_indexer] = value instead\n",
            "\n",
            "See the caveats in the documentation: https://pandas.pydata.org/pandas-docs/stable/user_guide/indexing.html#returning-a-view-versus-a-copy\n",
            "  df['work_type'] = le.fit_transform(data['work_type'])\n",
            "<ipython-input-4-c5a81b6f2d12>:20: SettingWithCopyWarning: \n",
            "A value is trying to be set on a copy of a slice from a DataFrame.\n",
            "Try using .loc[row_indexer,col_indexer] = value instead\n",
            "\n",
            "See the caveats in the documentation: https://pandas.pydata.org/pandas-docs/stable/user_guide/indexing.html#returning-a-view-versus-a-copy\n",
            "  df['Residence_type'] = le.fit_transform(data['Residence_type'])\n",
            "<ipython-input-4-c5a81b6f2d12>:21: SettingWithCopyWarning: \n",
            "A value is trying to be set on a copy of a slice from a DataFrame.\n",
            "Try using .loc[row_indexer,col_indexer] = value instead\n",
            "\n",
            "See the caveats in the documentation: https://pandas.pydata.org/pandas-docs/stable/user_guide/indexing.html#returning-a-view-versus-a-copy\n",
            "  df['smoking_status'] = le.fit_transform(data['smoking_status'])\n"
          ]
        },
        {
          "output_type": "stream",
          "name": "stdout",
          "text": [
            "Epoch 1/10\n",
            "123/123 [==============================] - 2s 7ms/step - loss: 0.2038 - accuracy: 0.9562\n",
            "Epoch 2/10\n",
            "123/123 [==============================] - 0s 2ms/step - loss: 0.1806 - accuracy: 0.9557\n",
            "Epoch 3/10\n",
            "123/123 [==============================] - 0s 2ms/step - loss: 0.1779 - accuracy: 0.9539\n",
            "Epoch 4/10\n",
            "123/123 [==============================] - 0s 4ms/step - loss: 0.1787 - accuracy: 0.9554\n",
            "Epoch 5/10\n",
            "123/123 [==============================] - 1s 8ms/step - loss: 0.1743 - accuracy: 0.9554\n",
            "Epoch 6/10\n",
            "123/123 [==============================] - 0s 2ms/step - loss: 0.1735 - accuracy: 0.9549\n",
            "Epoch 7/10\n",
            "123/123 [==============================] - 0s 2ms/step - loss: 0.1727 - accuracy: 0.9539\n",
            "Epoch 8/10\n",
            "123/123 [==============================] - 0s 2ms/step - loss: 0.1721 - accuracy: 0.9537\n",
            "Epoch 9/10\n",
            "123/123 [==============================] - 0s 3ms/step - loss: 0.1718 - accuracy: 0.9544\n",
            "Epoch 10/10\n",
            "123/123 [==============================] - 0s 2ms/step - loss: 0.1675 - accuracy: 0.9552\n",
            "31/31 [==============================] - 0s 2ms/step\n"
          ]
        },
        {
          "output_type": "execute_result",
          "data": {
            "text/plain": [
              "0.9633401221995926"
            ]
          },
          "metadata": {},
          "execution_count": 4
        },
        {
          "output_type": "display_data",
          "data": {
            "text/plain": [
              "<Figure size 640x480 with 1 Axes>"
            ],
            "image/png": "[encoded data removed]"
          },
          "metadata": {}
        }
      ],
      "source": [
        "#Importing the libraries\n",
        "import numpy as np\n",
        "import pandas as pd\n",
        "#Importing the data\n",
        "data = pd.read_csv('/content/drive/MyDrive/CSV Files/Stroke Unbalanced.csv')\n",
        "data=data.dropna()\n",
        "df=data[['age','hypertension','heart_disease','avg_glucose_level','bmi','stroke']]\n",
        "from sklearn.preprocessing import LabelEncoder\n",
        "le = LabelEncoder()\n",
        "df['gender'] = le.fit_transform(data['gender'])\n",
        "df['ever_married'] = le.fit_transform(data['ever_married'])\n",
        "df['work_type'] = le.fit_transform(data['work_type'])\n",
        "df['Residence_type'] = le.fit_transform(data['Residence_type'])\n",
        "df['smoking_status'] = le.fit_transform(data['smoking_status'])\n",
        "x = df.drop('stroke',axis=1)\n",
        "y = df['stroke']\n",
        "from sklearn.model_selection import train_test_split as tts\n",
        "x_train, x_test, y_train, y_test= tts(x,y,test_size=0.2)\n",
        "#Model Creation and compilation\n",
        "import tensorflow as tf\n",
        "from tensorflow.keras.layers import Dense\n",
        "ann = tf.keras.Sequential()\n",
        "ann.add(Dense(units=25, activation='relu'))\n",
        "ann.add(Dense(units=25,activation='relu'))\n",
        "ann.add(Dense(units=1,activation='sigmoid'))\n",
        "ann.compile('adam','binary_crossentropy',metrics=['accuracy'])\n",
        "result = ann.fit(x_train,y_train,epochs=10)\n",
        "y_pred=[]\n",
        "for i in ann.predict(x_test):\n",
        "    if i>0.5:\n",
        "        y_pred.append(1)\n",
        "    if i<0.5:\n",
        "        y_pred.append(0)\n"
      ]
    },
    {
      "cell_type": "code",
      "source": [
        "from sklearn.metrics import confusion_matrix\n",
        "print(confusion_matrix(y_test,y_pred))\n"
      ],
      "metadata": {
        "colab": {
          "base_uri": "https://localhost:8080/"
        },
        "id": "PoIXtjipNjed",
        "outputId": "d9327318-7f6a-4ba2-d1c1-335edaa00d67"
      },
      "execution_count": null,
      "outputs": [
        {
          "output_type": "stream",
          "name": "stdout",
          "text": [
            "[[946   0]\n",
            " [ 36   0]]\n"
          ]
        }
      ]
    },
    {
      "cell_type": "code",
      "source": [
        "from sklearn.metrics import accuracy_score\n",
        "accuracy=accuracy_score(y_test,y_pred)\n",
        "accuracy"
      ],
      "metadata": {
        "colab": {
          "base_uri": "https://localhost:8080/"
        },
        "id": "ISZHbqN5NkKL",
        "outputId": "0f74da28-c1c9-47aa-8bb9-89abf2b70860"
      },
      "execution_count": null,
      "outputs": [
        {
          "output_type": "execute_result",
          "data": {
            "text/plain": [
              "0.9633401221995926"
            ]
          },
          "metadata": {},
          "execution_count": 7
        }
      ]
    }
  ]
}